{
 "cells": [
  {
   "cell_type": "code",
   "execution_count": 1,
   "id": "02685fb1-9e66-4366-a46b-7e84e118fa2d",
   "metadata": {
    "scrolled": true
   },
   "outputs": [
    {
     "name": "stdout",
     "output_type": "stream",
     "text": [
      "    Unnamed: 0   site_no  number_of_obs       MSE      BIAS      RMSE  \\\n",
      "0            0  13310800           1103  0.315464 -0.217739  0.561662   \n",
      "1            1  13311450           1098  0.357845 -0.174490  0.598202   \n",
      "2            2  13311000           1101  0.386968 -0.117419  0.622068   \n",
      "3            3  13154500           2088  0.410202 -0.041550  0.640470   \n",
      "4            4  13092747           1377  0.484580 -0.071572  0.696118   \n",
      "5            5  13211205            753  0.529429 -0.309338  0.727619   \n",
      "6            6  13311250           1012  0.537925 -0.007768  0.733434   \n",
      "7            7  13317660           1748  0.596277  0.045260  0.772190   \n",
      "8            8  13192200            820  0.671238  0.227463  0.819291   \n",
      "9            9  13310850           1042  0.712444 -0.500005  0.844064   \n",
      "10          10  13296000            995  0.760408 -0.256101  0.872014   \n",
      "11          11  13150430           1919  0.804744  0.175230  0.897075   \n",
      "12          12  13307000            786  0.917044 -0.413441  0.957624   \n",
      "13          13  13341050           2018  1.058182 -0.108539  1.028680   \n",
      "14          14  13342500           2287  1.062969 -0.092029  1.031004   \n",
      "15          15  13190500            460  1.104455  0.888014  1.050931   \n",
      "16          16  13340600           2252  1.278135  0.083686  1.130546   \n",
      "17          17  12305000           1090  1.352397  0.581202  1.162926   \n",
      "18          18  13304050            268  1.438790 -0.142843  1.199496   \n",
      "19          19  13340000           2124  1.458500  0.009889  1.207684   \n",
      "20          20  13176400           1075  1.464772 -0.453897  1.210278   \n",
      "21          21  12322000            953  1.984294  0.429403  1.408650   \n",
      "22          22  13213000            182  2.626482 -1.463405  1.620642   \n",
      "\n",
      "         NSE       KGE  std_dev_st      cv_q  inter_cv_q  inter_cv_st  range  \\\n",
      "0   0.874394  0.926769    1.726251  1.057303    0.415897     0.049465    8.5   \n",
      "1   0.908933  0.907758    2.037784  0.935469    0.292900     0.054506    9.9   \n",
      "2   0.883396  0.939221    2.062030  1.093710    0.342235     0.049630   10.1   \n",
      "3   0.693833  0.729285    1.277700  0.357561    0.236465     0.015865    8.7   \n",
      "4   0.683433  0.704597    1.206649  0.344015    0.161245     0.024926    9.1   \n",
      "5   0.894385  0.889599    2.703736  1.309499    0.691558     0.053038   11.6   \n",
      "6   0.918442  0.906752    2.449483  1.090095    0.358423     0.062728   11.3   \n",
      "7   0.942348  0.915618    3.283600  0.730034    0.343824     0.043380   12.7   \n",
      "8   0.656573  0.666625    1.666903  0.489336    0.232474     0.042419   10.0   \n",
      "9   0.761576  0.904339    1.963472  1.243273    0.422198     0.050927    9.1   \n",
      "10  0.903190  0.875657    2.553514  1.195209    0.487135     0.077839   11.8   \n",
      "11  0.770767  0.866316    1.933087  0.285521    0.244978     0.028920   12.8   \n",
      "12  0.845694  0.909612    2.951736  0.953005    0.438024     0.052852   14.0   \n",
      "13  0.584494  0.712652    1.654773  0.606907    0.304716     0.033265   10.8   \n",
      "14  0.572559  0.752785    1.712897  0.621335    0.314151     0.047637   12.5   \n",
      "15  0.139619  0.688853    1.524772  0.462245    0.243356     0.108426    6.3   \n",
      "16  0.918406  0.943870    4.035408  1.085675    0.490574     0.097805   17.3   \n",
      "17  0.467928  0.779612    2.222859  0.617745    0.468129     0.077378   10.7   \n",
      "18  0.611154  0.498039    2.633975  1.829575    0.374409     0.021088   11.5   \n",
      "19  0.936120  0.945548    4.984276  1.206296    0.476409     0.084931   20.8   \n",
      "20  0.755200  0.841286    2.303561  1.820391    1.004121     0.020886   13.3   \n",
      "21  0.579804  0.673606    2.520005  0.544549    0.293886     0.049366   11.4   \n",
      "22 -2.749065  0.387342    2.597547  0.783722    0.604952     0.060657   10.9   \n",
      "\n",
      "    autocorr_t_1  grid_std_ratio  grid_correlation  \n",
      "0       0.923407        0.958528          0.945224  \n",
      "1       0.940953        0.919909          0.958200  \n",
      "2       0.926850        1.023751          0.945355  \n",
      "3       0.958356        0.785208          0.835240  \n",
      "4       0.882180        0.756972          0.832122  \n",
      "5       0.956072        0.899286          0.957531  \n",
      "6       0.951022        0.916090          0.959334  \n",
      "7       0.962208        0.920348          0.972234  \n",
      "8       0.930701        1.322969          0.919633  \n",
      "9       0.933806        1.011385          0.923556  \n",
      "10      0.938317        0.885029          0.957492  \n",
      "11      0.872693        0.933781          0.884287  \n",
      "12      0.950247        0.940798          0.935141  \n",
      "13      0.944409        0.828321          0.769771  \n",
      "14      0.941379        0.907092          0.771025  \n",
      "15      0.958542        0.735846          0.880205  \n",
      "16      0.965336        0.962469          0.958576  \n",
      "17      0.942368        0.945540          0.790486  \n",
      "18      0.928449        0.520205          0.852819  \n",
      "19      0.965850        0.956238          0.967602  \n",
      "20      0.946804        0.888845          0.888612  \n",
      "21      0.960536        0.753826          0.787386  \n",
      "22      0.947096        0.583215          0.555500  \n",
      "Unnamed: 0            int64\n",
      "site_no               int64\n",
      "number_of_obs         int64\n",
      "MSE                 float64\n",
      "BIAS                float64\n",
      "RMSE                float64\n",
      "NSE                 float64\n",
      "KGE                 float64\n",
      "std_dev_st          float64\n",
      "cv_q                float64\n",
      "inter_cv_q          float64\n",
      "inter_cv_st         float64\n",
      "range               float64\n",
      "autocorr_t_1        float64\n",
      "grid_std_ratio      float64\n",
      "grid_correlation    float64\n",
      "dtype: object\n",
      "   model_site      rmse      bias        r2           KGE\n",
      "0    13154500  0.422222 -0.136996  0.945461  [0.97042483]\n",
      "1    13307000  1.505774 -0.792539  0.927058  [0.94834555]\n",
      "2    13310850  0.580060 -0.211125  0.957956  [0.95305619]\n",
      "3    13311000  0.591509  0.004755  0.958403  [0.94687241]\n",
      "4    13317660  1.076565 -0.042759  0.949019  [0.96883201]\n",
      "5    13340000  1.456297 -0.100982  0.946352  [0.97093987]\n",
      "6    13340600  1.014317  0.460953  0.953541  [0.94439105]\n",
      "7    13342500  0.963371 -0.342795  0.905942  [0.94275614]\n",
      "model_site      Int64\n",
      "rmse          float64\n",
      "bias          float64\n",
      "r2            float64\n",
      "KGE            object\n",
      "dtype: object\n"
     ]
    }
   ],
   "source": [
    "import pandas as pd\n",
    "\n",
    "rf = pd.read_csv(\"sorted_df_var_202505252114.csv\")\n",
    "print(rf)\n",
    "# Print column data types\n",
    "print(rf.dtypes)\n",
    "\n",
    "lstm = pd.read_csv(\"best_KGE_result.csv\")\n",
    "lstm['model_site'] = lstm['model_site'].astype('Int64')\n",
    "\n",
    "print(lstm)\n",
    "print(lstm.dtypes)"
   ]
  },
  {
   "cell_type": "code",
   "execution_count": 2,
   "id": "10d01512-dc4a-487e-b715-a6516872d7e0",
   "metadata": {},
   "outputs": [
    {
     "name": "stdout",
     "output_type": "stream",
     "text": [
      "site_no            int64\n",
      "Random Forest    float64\n",
      "LSTM             float64\n",
      "dtype: object\n",
      "    site_no  Random Forest   LSTM\n",
      "0  13311000       0.939221  0.946\n",
      "1  13154500       0.729285  0.970\n",
      "2  13317660       0.915618  0.968\n",
      "3  13310850       0.904339  0.953\n",
      "4  13307000       0.909612  0.948\n",
      "5  13342500       0.752785  0.942\n",
      "6  13340600       0.943870  0.944\n",
      "7  13340000       0.945548  0.970\n"
     ]
    }
   ],
   "source": [
    "merged_df = pd.merge( rf,  lstm, left_on='site_no', right_on='model_site', how='inner')\n",
    "#merged_df['KGE_y'] = merged_df['KGE_y']#.astype('float64')\n",
    "\n",
    "#merged_df['KGE_y'] = merged_df['KGE_y'].apply(lambda x: x[0] if isinstance(x, list) and len(x) == 1 else x)\n",
    "\n",
    "\n",
    "merged_df['KGE_y'] = merged_df['KGE_y'].apply(lambda x: x[1:6])\n",
    "merged_df['KGE_y'] = merged_df['KGE_y'].astype('float64')\n",
    "\n",
    "merged_df = merged_df[ ['site_no', 'KGE_x', 'KGE_y'] ]\n",
    "\n",
    "merged_df.columns=[ 'site_no', 'Random Forest', 'LSTM' ]\n",
    "\n",
    "print(merged_df.dtypes)\n",
    "print(merged_df)"
   ]
  },
  {
   "cell_type": "code",
   "execution_count": 3,
   "id": "422d19a5-e0c1-4717-8968-e38227b4233e",
   "metadata": {},
   "outputs": [
    {
     "name": "stdout",
     "output_type": "stream",
     "text": [
      "            col\n",
      "0  [0.97042483]\n",
      "1  [0.82398472]\n",
      "2  [0.12345678]\n",
      "        col\n",
      "0  0.970425\n",
      "1  0.823985\n",
      "2  0.123457\n"
     ]
    }
   ],
   "source": [
    "import pandas as pd\n",
    "\n",
    "# Example DataFrame\n",
    "df = pd.DataFrame({\n",
    "    'col': [[0.97042483], [0.82398472], [0.12345678]]\n",
    "})\n",
    "\n",
    "print(df)\n",
    "\n",
    "# Convert list with single float to plain float\n",
    "df['col'] = df['col'].apply(lambda x: x[0] if isinstance(x, list) and len(x) == 1 else x)\n",
    "\n",
    "print(df)\n"
   ]
  },
  {
   "cell_type": "code",
   "execution_count": 9,
   "id": "7e3cf458-9da2-4f7d-8a58-f8af91c0ded1",
   "metadata": {},
   "outputs": [
    {
     "data": {
      "image/png": "[encoded data removed]",
      "text/plain": [
       "<Figure size 640x480 with 1 Axes>"
      ]
     },
     "metadata": {},
     "output_type": "display_data"
    }
   ],
   "source": [
    "\n",
    "\n",
    "import matplotlib.pyplot as plt\n",
    "\n",
    "plt.rcParams['font.size'] = 15\n",
    "\n",
    "merged_df[[ 'Random Forest', 'LSTM']].boxplot()\n",
    "plt.title(\" \")\n",
    "plt.ylabel(\"KGE\")\n",
    "\n",
    "# Save the figure\n",
    "plt.savefig(\"kge.png\")  # Saves as a PNG file\n",
    "\n",
    "plt.show()\n"
   ]
  },
  {
   "cell_type": "code",
   "execution_count": 5,
   "id": "d0c39415-7525-4799-a6dc-52db186a5f06",
   "metadata": {},
   "outputs": [
    {
     "ename": "KeyError",
     "evalue": "\"None of [Index(['RMSE', 'rmse'], dtype='object')] are in the [columns]\"",
     "output_type": "error",
     "traceback": [
      "\u001b[1;31m---------------------------------------------------------------------------\u001b[0m",
      "\u001b[1;31mKeyError\u001b[0m                                  Traceback (most recent call last)",
      "Cell \u001b[1;32mIn[5], line 7\u001b[0m\n\u001b[0;32m      2\u001b[0m \u001b[38;5;28;01mimport\u001b[39;00m \u001b[38;5;21;01mmatplotlib\u001b[39;00m\u001b[38;5;21;01m.\u001b[39;00m\u001b[38;5;21;01mpyplot\u001b[39;00m \u001b[38;5;28;01mas\u001b[39;00m \u001b[38;5;21;01mplt\u001b[39;00m\n\u001b[0;32m      5\u001b[0m \u001b[38;5;66;03m# Create boxplot\u001b[39;00m\n\u001b[1;32m----> 7\u001b[0m merged_df[[\u001b[38;5;124m'\u001b[39m\u001b[38;5;124mRMSE\u001b[39m\u001b[38;5;124m'\u001b[39m, \u001b[38;5;124m'\u001b[39m\u001b[38;5;124mrmse\u001b[39m\u001b[38;5;124m'\u001b[39m]]\u001b[38;5;241m.\u001b[39mboxplot()\n\u001b[0;32m      8\u001b[0m plt\u001b[38;5;241m.\u001b[39mtitle(\u001b[38;5;124m\"\u001b[39m\u001b[38;5;124mBoxplot of col1 and col2\u001b[39m\u001b[38;5;124m\"\u001b[39m)\n\u001b[0;32m      9\u001b[0m plt\u001b[38;5;241m.\u001b[39mylabel(\u001b[38;5;124m\"\u001b[39m\u001b[38;5;124mValues\u001b[39m\u001b[38;5;124m\"\u001b[39m)\n",
      "File \u001b[1;32m~\\AppData\\Local\\anaconda3\\Lib\\site-packages\\pandas\\core\\frame.py:4108\u001b[0m, in \u001b[0;36mDataFrame.__getitem__\u001b[1;34m(self, key)\u001b[0m\n\u001b[0;32m   4106\u001b[0m     \u001b[38;5;28;01mif\u001b[39;00m is_iterator(key):\n\u001b[0;32m   4107\u001b[0m         key \u001b[38;5;241m=\u001b[39m \u001b[38;5;28mlist\u001b[39m(key)\n\u001b[1;32m-> 4108\u001b[0m     indexer \u001b[38;5;241m=\u001b[39m \u001b[38;5;28mself\u001b[39m\u001b[38;5;241m.\u001b[39mcolumns\u001b[38;5;241m.\u001b[39m_get_indexer_strict(key, \u001b[38;5;124m\"\u001b[39m\u001b[38;5;124mcolumns\u001b[39m\u001b[38;5;124m\"\u001b[39m)[\u001b[38;5;241m1\u001b[39m]\n\u001b[0;32m   4110\u001b[0m \u001b[38;5;66;03m# take() does not accept boolean indexers\u001b[39;00m\n\u001b[0;32m   4111\u001b[0m \u001b[38;5;28;01mif\u001b[39;00m \u001b[38;5;28mgetattr\u001b[39m(indexer, \u001b[38;5;124m\"\u001b[39m\u001b[38;5;124mdtype\u001b[39m\u001b[38;5;124m\"\u001b[39m, \u001b[38;5;28;01mNone\u001b[39;00m) \u001b[38;5;241m==\u001b[39m \u001b[38;5;28mbool\u001b[39m:\n",
      "File \u001b[1;32m~\\AppData\\Local\\anaconda3\\Lib\\site-packages\\pandas\\core\\indexes\\base.py:6200\u001b[0m, in \u001b[0;36mIndex._get_indexer_strict\u001b[1;34m(self, key, axis_name)\u001b[0m\n\u001b[0;32m   6197\u001b[0m \u001b[38;5;28;01melse\u001b[39;00m:\n\u001b[0;32m   6198\u001b[0m     keyarr, indexer, new_indexer \u001b[38;5;241m=\u001b[39m \u001b[38;5;28mself\u001b[39m\u001b[38;5;241m.\u001b[39m_reindex_non_unique(keyarr)\n\u001b[1;32m-> 6200\u001b[0m \u001b[38;5;28mself\u001b[39m\u001b[38;5;241m.\u001b[39m_raise_if_missing(keyarr, indexer, axis_name)\n\u001b[0;32m   6202\u001b[0m keyarr \u001b[38;5;241m=\u001b[39m \u001b[38;5;28mself\u001b[39m\u001b[38;5;241m.\u001b[39mtake(indexer)\n\u001b[0;32m   6203\u001b[0m \u001b[38;5;28;01mif\u001b[39;00m \u001b[38;5;28misinstance\u001b[39m(key, Index):\n\u001b[0;32m   6204\u001b[0m     \u001b[38;5;66;03m# GH 42790 - Preserve name from an Index\u001b[39;00m\n",
      "File \u001b[1;32m~\\AppData\\Local\\anaconda3\\Lib\\site-packages\\pandas\\core\\indexes\\base.py:6249\u001b[0m, in \u001b[0;36mIndex._raise_if_missing\u001b[1;34m(self, key, indexer, axis_name)\u001b[0m\n\u001b[0;32m   6247\u001b[0m \u001b[38;5;28;01mif\u001b[39;00m nmissing:\n\u001b[0;32m   6248\u001b[0m     \u001b[38;5;28;01mif\u001b[39;00m nmissing \u001b[38;5;241m==\u001b[39m \u001b[38;5;28mlen\u001b[39m(indexer):\n\u001b[1;32m-> 6249\u001b[0m         \u001b[38;5;28;01mraise\u001b[39;00m \u001b[38;5;167;01mKeyError\u001b[39;00m(\u001b[38;5;124mf\u001b[39m\u001b[38;5;124m\"\u001b[39m\u001b[38;5;124mNone of [\u001b[39m\u001b[38;5;132;01m{\u001b[39;00mkey\u001b[38;5;132;01m}\u001b[39;00m\u001b[38;5;124m] are in the [\u001b[39m\u001b[38;5;132;01m{\u001b[39;00maxis_name\u001b[38;5;132;01m}\u001b[39;00m\u001b[38;5;124m]\u001b[39m\u001b[38;5;124m\"\u001b[39m)\n\u001b[0;32m   6251\u001b[0m     not_found \u001b[38;5;241m=\u001b[39m \u001b[38;5;28mlist\u001b[39m(ensure_index(key)[missing_mask\u001b[38;5;241m.\u001b[39mnonzero()[\u001b[38;5;241m0\u001b[39m]]\u001b[38;5;241m.\u001b[39munique())\n\u001b[0;32m   6252\u001b[0m     \u001b[38;5;28;01mraise\u001b[39;00m \u001b[38;5;167;01mKeyError\u001b[39;00m(\u001b[38;5;124mf\u001b[39m\u001b[38;5;124m\"\u001b[39m\u001b[38;5;132;01m{\u001b[39;00mnot_found\u001b[38;5;132;01m}\u001b[39;00m\u001b[38;5;124m not in index\u001b[39m\u001b[38;5;124m\"\u001b[39m)\n",
      "\u001b[1;31mKeyError\u001b[0m: \"None of [Index(['RMSE', 'rmse'], dtype='object')] are in the [columns]\""
     ]
    }
   ],
   "source": [
    "import pandas as pd\n",
    "import matplotlib.pyplot as plt\n",
    "\n",
    " \n",
    "# Create boxplot\n",
    "\n",
    "merged_df[['RMSE', 'rmse']].boxplot()\n",
    "plt.title(\"Boxplot of col1 and col2\")\n",
    "plt.ylabel(\"Values\")\n",
    "plt.show()"
   ]
  },
  {
   "cell_type": "code",
   "execution_count": null,
   "id": "7c93d916-c73e-4da9-9b12-8389e04cbccf",
   "metadata": {},
   "outputs": [],
   "source": [
    "import seaborn as sns\n",
    "import pandas as pd\n",
    "import matplotlib.pyplot as plt\n",
    "\n",
    "# Melt the DataFrame to long format\n",
    "df_melted =  merged_df[['KGE_x', 'KGE_y']].melt(var_name='Variable', value_name='Value')\n",
    "\n",
    "# Create boxplot\n",
    "sns.boxplot(x='Variable', y='Value', data=df_melted)\n",
    "plt.title(\"Boxplot of col1 and col2\")\n",
    "plt.show()\n"
   ]
  },
  {
   "cell_type": "code",
   "execution_count": null,
   "id": "e57d42d2-d25f-47e2-8984-337411232335",
   "metadata": {},
   "outputs": [],
   "source": [
    "import seaborn as sns\n",
    "import matplotlib.pyplot as plt\n",
    "\n",
    "# Sample data\n",
    "import numpy as np\n",
    "import pandas as pd\n",
    "np.random.seed(42)\n",
    "data = pd.DataFrame({\n",
    "    'group': np.repeat(['A', 'B'], 50),\n",
    "    'value': np.concatenate([\n",
    "        np.random.normal(loc=5, scale=1, size=50),\n",
    "        np.random.normal(loc=6, scale=1.2, size=50)\n",
    "    ])\n",
    "})\n",
    "\n",
    "# Create boxplot\n",
    "sns.boxplot(x='group', y='value', data=data, whis=1.5, width=0.4, fliersize=0)\n",
    "\n",
    "# Overlay each data point\n",
    "sns.stripplot(x='group', y='value', data=data, color='black', size=4, jitter=True)\n",
    "\n",
    "plt.title(\"Boxplot with Individual Points\")\n",
    "plt.show()\n"
   ]
  },
  {
   "cell_type": "code",
   "execution_count": null,
   "id": "2edde576-6f5b-42a0-aa93-76c45a2ae139",
   "metadata": {},
   "outputs": [],
   "source": []
  },
  {
   "cell_type": "code",
   "execution_count": null,
   "id": "37a5dcf6-a1e2-4b93-9d31-873ae7fd481f",
   "metadata": {},
   "outputs": [],
   "source": []
  }
 ],
 "metadata": {
  "kernelspec": {
   "display_name": "Python 3 (ipykernel)",
   "language": "python",
   "name": "python3"
  },
  "language_info": {
   "codemirror_mode": {
    "name": "ipython",
    "version": 3
   },
   "file_extension": ".py",
   "mimetype": "text/x-python",
   "name": "python",
   "nbconvert_exporter": "python",
   "pygments_lexer": "ipython3",
   "version": "3.12.4"
  }
 },
 "nbformat": 4,
 "nbformat_minor": 5
}
