{
  "cells": [
    {
      "cell_type": "code",
      "source": [
        "# 1. Mount your Google Drive\n",
        "from google.colab import drive\n",
        "drive.mount('/content/drive')   # Authorize when prompted\n",
        "\n",
        "# 2. Import pandas\n",
        "import pandas as pd\n",
        "\n",
        "# 3. Build the path to your CSV\n",
        "#    Replace the path below with your actual file location.\n",
        "csv_path = '/content/drive/MyDrive/sorted_df_var_202506171543.csv'\n",
        "\n"
      ],
      "metadata": {
        "colab": {
          "base_uri": "https://localhost:8080/"
        },
        "id": "qhFOFe-rm2V5",
        "outputId": "76614e80-ed14-4817-f414-b4861abf8379"
      },
      "id": "qhFOFe-rm2V5",
      "execution_count": 1,
      "outputs": [
        {
          "output_type": "stream",
          "name": "stdout",
          "text": [
            "Drive already mounted at /content/drive; to attempt to forcibly remount, call drive.mount(\"/content/drive\", force_remount=True).\n"
          ]
        }
      ]
    },
    {
      "cell_type": "code",
      "execution_count": 2,
      "id": "02685fb1-9e66-4366-a46b-7e84e118fa2d",
      "metadata": {
        "scrolled": true,
        "colab": {
          "base_uri": "https://localhost:8080/"
        },
        "id": "02685fb1-9e66-4366-a46b-7e84e118fa2d",
        "outputId": "22a7e5eb-8a3d-4679-f36d-d2add948accc"
      },
      "outputs": [
        {
          "output_type": "stream",
          "name": "stdout",
          "text": [
            "    Unnamed: 0   site_no  number_of_obs       MSE      BIAS      RMSE  \\\n",
            "0            0  13310800           1103  0.315464 -0.217739  0.561662   \n",
            "1            1  13192200            820  0.326945  0.144117  0.571791   \n",
            "2            2  13311450           1098  0.357845 -0.174490  0.598202   \n",
            "3            3  13311000           1101  0.386968 -0.117419  0.622068   \n",
            "4            4  13154500           2088  0.410202 -0.041550  0.640470   \n",
            "5            5  13092747           1377  0.484580 -0.071572  0.696118   \n",
            "6            6  13211205            753  0.529429 -0.309338  0.727619   \n",
            "7            7  13311250           1012  0.537925 -0.007768  0.733434   \n",
            "8            8  13317660           1748  0.596277  0.045260  0.772190   \n",
            "9            9  13310850           1042  0.712444 -0.500005  0.844064   \n",
            "10          10  13296000            995  0.760408 -0.256101  0.872014   \n",
            "11          11  13150430           1919  0.804744  0.175230  0.897075   \n",
            "12          12  13307000            786  0.917044 -0.413441  0.957624   \n",
            "13          13  13341050           2018  1.058182 -0.108539  1.028680   \n",
            "14          14  13342500           2287  1.062969 -0.092029  1.031004   \n",
            "15          15  13190500            460  1.104455  0.888014  1.050931   \n",
            "16          16  13340600           2252  1.278135  0.083686  1.130546   \n",
            "17          17  12305000           1090  1.352397  0.581202  1.162926   \n",
            "18          18  13304050            268  1.438790 -0.142843  1.199496   \n",
            "19          19  13340000           2124  1.458500  0.009889  1.207684   \n",
            "20          20  13176400           1075  1.464772 -0.453897  1.210278   \n",
            "21          21  12322000            953  1.984294  0.429403  1.408650   \n",
            "22          22  13213000            165  2.543722 -1.391455  1.594905   \n",
            "\n",
            "         NSE       KGE  std_dev_st      cv_q  inter_cv_q  inter_cv_st  range  \\\n",
            "0   0.874394  0.926769    1.726251  1.057303    0.415897     0.049465    8.5   \n",
            "1   0.832725  0.859797    1.666903  0.489336    0.232474     0.042419   10.0   \n",
            "2   0.908933  0.907758    2.037784  0.935469    0.292900     0.054506    9.9   \n",
            "3   0.883396  0.939221    2.062030  1.093710    0.342235     0.049630   10.1   \n",
            "4   0.693833  0.729285    1.277700  0.357561    0.236465     0.015865    8.7   \n",
            "5   0.683433  0.704597    1.206649  0.344015    0.161245     0.024926    9.1   \n",
            "6   0.894385  0.889599    2.703736  1.309499    0.691558     0.053038   11.6   \n",
            "7   0.918442  0.906752    2.449483  1.090095    0.358423     0.062728   11.3   \n",
            "8   0.942348  0.915618    3.283600  0.730034    0.343824     0.043380   12.7   \n",
            "9   0.761576  0.904339    1.963472  1.243273    0.422198     0.050927    9.1   \n",
            "10  0.903190  0.875657    2.553514  1.195209    0.487135     0.077839   11.8   \n",
            "11  0.770767  0.866316    1.933087  0.285521    0.244978     0.028920   12.8   \n",
            "12  0.845694  0.909612    2.951736  0.953005    0.438024     0.052852   14.0   \n",
            "13  0.584494  0.712652    1.654773  0.606907    0.304716     0.033265   10.8   \n",
            "14  0.572559  0.752785    1.712897  0.621335    0.314151     0.047637   12.5   \n",
            "15  0.139619  0.688853    1.524772  0.462245    0.243356     0.108426    6.3   \n",
            "16  0.918406  0.943870    4.035408  1.085675    0.490574     0.097805   17.3   \n",
            "17  0.467928  0.779612    2.222859  0.617745    0.468129     0.077378   10.7   \n",
            "18  0.611154  0.498039    2.633975  1.829575    0.374409     0.021088   11.5   \n",
            "19  0.936120  0.945548    4.984276  1.206296    0.476409     0.084931   20.8   \n",
            "20  0.755200  0.841286    2.303561  1.820391    1.004121     0.020886   13.3   \n",
            "21  0.579804  0.673606    2.520005  0.544549    0.293886     0.049366   11.4   \n",
            "22 -2.346276  0.471514    2.472881  0.805287    0.700471     0.087888   10.1   \n",
            "\n",
            "    autocorr_t_1  grid_std_ratio  grid_correlation  \n",
            "0       0.923407        0.958528          0.945224  \n",
            "1       0.930701        1.124802          0.937290  \n",
            "2       0.940953        0.919909          0.958200  \n",
            "3       0.926850        1.023751          0.945355  \n",
            "4       0.958356        0.785208          0.835240  \n",
            "5       0.882180        0.756972          0.832122  \n",
            "6       0.956072        0.899286          0.957531  \n",
            "7       0.951022        0.916090          0.959334  \n",
            "8       0.962208        0.920348          0.972234  \n",
            "9       0.933806        1.011385          0.923556  \n",
            "10      0.938317        0.885029          0.957492  \n",
            "11      0.872693        0.933781          0.884287  \n",
            "12      0.950247        0.940798          0.935141  \n",
            "13      0.944409        0.828321          0.769771  \n",
            "14      0.941379        0.907092          0.771025  \n",
            "15      0.958542        0.735846          0.880205  \n",
            "16      0.965336        0.962469          0.958576  \n",
            "17      0.942368        0.945540          0.790486  \n",
            "18      0.928449        0.520205          0.852819  \n",
            "19      0.965850        0.956238          0.967602  \n",
            "20      0.946804        0.888845          0.888612  \n",
            "21      0.960536        0.753826          0.787386  \n",
            "22      0.945153        0.785873          0.520648  \n",
            "Unnamed: 0            int64\n",
            "site_no               int64\n",
            "number_of_obs         int64\n",
            "MSE                 float64\n",
            "BIAS                float64\n",
            "RMSE                float64\n",
            "NSE                 float64\n",
            "KGE                 float64\n",
            "std_dev_st          float64\n",
            "cv_q                float64\n",
            "inter_cv_q          float64\n",
            "inter_cv_st         float64\n",
            "range               float64\n",
            "autocorr_t_1        float64\n",
            "grid_std_ratio      float64\n",
            "grid_correlation    float64\n",
            "dtype: object\n",
            "    Unnamed: 0                current_time  model_site         train_month  \\\n",
            "0           92  2025-06-17 19:45:33.846027    12305000  [3, 4, 5, 6, 7, 8]   \n",
            "1           24  2025-06-10 15:58:16.856939    12322000  [3, 4, 5, 6, 7, 8]   \n",
            "2           56  2025-06-13 01:58:46.930758    13092747  [3, 4, 5, 6, 7, 8]   \n",
            "3           60  2025-06-13 03:13:34.716890    13150430  [3, 4, 5, 6, 7, 8]   \n",
            "4           21  2025-06-10 15:39:24.167449    13154500  [3, 4, 5, 6, 7, 8]   \n",
            "5           40  2025-06-11 18:48:42.572289    13176400  [3, 4, 5, 6, 7, 8]   \n",
            "6           79  2025-06-13 17:27:13.926734    13190500  [3, 4, 5, 6, 7, 8]   \n",
            "7           76  2025-06-13 17:10:14.458893    13192200  [3, 4, 5, 6, 7, 8]   \n",
            "8           69  2025-06-13 16:17:02.214794    13211205  [3, 4, 5, 6, 7, 8]   \n",
            "9          101  2025-06-17 21:26:44.970142    13296000  [3, 4, 5, 6, 7, 8]   \n",
            "10           2  2025-06-09 16:21:11.472098    13304050  [3, 4, 5, 6, 7, 8]   \n",
            "11          50  2025-06-11 20:40:53.416969    13307000  [3, 4, 5, 6, 7, 8]   \n",
            "12          28  2025-06-11 16:32:52.771631    13310800  [3, 4, 5, 6, 7, 8]   \n",
            "13          10  2025-06-09 20:32:45.776507    13310850  [3, 4, 5, 6, 7, 8]   \n",
            "14           7  2025-06-09 19:13:57.805933    13311000  [3, 4, 5, 6, 7, 8]   \n",
            "15          65  2025-06-13 15:33:44.340783    13311250  [3, 4, 5, 6, 7, 8]   \n",
            "16          95  2025-06-17 19:55:35.469097    13311450  [3, 4, 5, 6, 7, 8]   \n",
            "17          81  2025-06-17 16:36:02.842780    13317660  [3, 4, 5, 6, 7, 8]   \n",
            "18          89  2025-06-17 19:27:20.069361    13340000  [3, 4, 5, 6, 7, 8]   \n",
            "19          11  2025-06-09 20:55:07.578068    13340600  [3, 4, 5, 6, 7, 8]   \n",
            "20          63  2025-06-13 15:25:43.450260    13341050  [3, 4, 5, 6, 7, 8]   \n",
            "21           5  2025-06-09 16:33:53.584965    13342500  [3, 4, 5, 6, 7, 8]   \n",
            "\n",
            "     h1   h2    d1     d2  batch  look_back  ... learning_rate        r2  \\\n",
            "0   256  100  0.10  0.050      8         12  ...        0.0001  0.907070   \n",
            "1   200  100  0.10  0.100     16         45  ...        0.0001  0.871017   \n",
            "2   100  100  0.20  0.100     32         45  ...        0.0001  0.956635   \n",
            "3   200  100  0.20  0.100     16         90  ...        0.0001  0.936969   \n",
            "4   200  100  0.10  0.025     16         45  ...        0.0001  0.964977   \n",
            "5   200  100  0.20  0.100     32         90  ...        0.0001  0.968902   \n",
            "6   256  100  0.20  0.050      8         90  ...        0.0001  0.593958   \n",
            "7   256  100  0.20  0.050      2         90  ...        0.0001  0.921174   \n",
            "8   100  100  0.20  0.050      8         90  ...        0.0001  0.954812   \n",
            "9   256  100  0.10  0.100     16         45  ...        0.0001  0.917388   \n",
            "10  400  100  0.05  0.025     16         90  ...        0.0010  0.692966   \n",
            "11  200  100  0.20  0.100     32         21  ...        0.0001  0.958061   \n",
            "12  100  100  0.10  0.100     16         45  ...        0.0001  0.955542   \n",
            "13  200  100  0.05  0.025     16         45  ...        0.0001  0.939661   \n",
            "14  200  100  0.05  0.025     16         45  ...        0.0010  0.948387   \n",
            "15  100  100  0.20  0.050     16         90  ...        0.0001  0.933993   \n",
            "16  256  100  0.10  0.050      8         12  ...        0.0001  0.963254   \n",
            "17  256  100  0.20  0.050      8         45  ...        0.0001  0.962085   \n",
            "18  256  100  0.10  0.050      8         21  ...        0.0001  0.968786   \n",
            "19  200  100  0.05  0.025     16         45  ...        0.0001  0.973471   \n",
            "20  200  100  0.20  0.050     16         90  ...        0.0001  0.864786   \n",
            "21  200  100  0.05  0.025     16         23  ...        0.0010  0.922750   \n",
            "\n",
            "        rmse      bias  std_ratio  correlation           KGE    KGE_r_comp  \\\n",
            "0   1.393678  0.185782   1.060470     0.958811  [0.92459393]  [0.95881082]   \n",
            "1   1.430887  0.822907   0.956234     0.948290  [0.90062981]           NaN   \n",
            "2   0.513246  0.221947   0.937728     0.980454  [0.93291839]  [0.98045436]   \n",
            "3   0.882703 -0.429646   1.087269     0.978335  [0.90516023]  [0.97833539]   \n",
            "4   0.546917 -0.024704   1.007364     0.982671  [0.98111223]           NaN   \n",
            "5   1.023327 -0.245997   1.070943     0.988308  [0.92647452]  [0.98830848]   \n",
            "6   0.834495 -0.378902   0.722370     0.802566  [0.65482259]  [0.80256599]   \n",
            "7   0.792946 -0.179598   1.054082     0.966040  [0.93352461]  [0.96603975]   \n",
            "8   1.042547 -0.050690   0.985665     0.977235  [0.97290831]  [0.97723546]   \n",
            "9   1.240340 -0.374714   0.979320     0.961014  [0.93448473]  [0.96101375]   \n",
            "10  1.041534 -0.852572   0.998009     0.949250  [0.92043523]           NaN   \n",
            "11  1.132614 -0.167962   0.988177     0.979353  [0.97360702]  [0.97935348]   \n",
            "12  0.553821  0.016340   0.950141     0.977924  [0.94539053]  [0.97792391]   \n",
            "13  0.887377 -0.467724   0.969264     0.976914  [0.89575072]           NaN   \n",
            "14  0.544358 -0.195271   1.035134     0.976823  [0.94731925]           NaN   \n",
            "15  0.874331 -0.089579   0.983416     0.966774  [0.96036739]  [0.96677382]   \n",
            "16  0.566136 -0.072440   0.940798     0.982541  [0.93720016]  [0.98254114]   \n",
            "17  1.091817  0.307619   0.966155     0.982203  [0.95658007]  [0.98220263]   \n",
            "18  1.377271 -0.023717   1.007487     0.984541  [0.98273179]  [0.98454134]   \n",
            "19  1.095614  0.365782   0.997768     0.988384  [0.96477695]           NaN   \n",
            "20  1.211277  0.316556   0.967881     0.936689  [0.92123698]  [0.93668878]   \n",
            "21  0.968252 -0.176003   0.948384     0.962413  [0.93380172]           NaN   \n",
            "\n",
            "   KGE_alpha_comp KGE_beta_comp  \n",
            "0    [1.06047012]  [1.01824534]  \n",
            "1             NaN           NaN  \n",
            "2    [0.93772789]  [1.01549501]  \n",
            "3    [1.08726875]  [0.96984387]  \n",
            "4             NaN           NaN  \n",
            "5    [1.07094332]  [0.98462635]  \n",
            "6    [0.72237017]  [0.94442184]  \n",
            "7    [1.05408206]  [0.98153896]  \n",
            "8    [0.98566538]  [0.99679778]  \n",
            "9    [0.97931983]  [0.95157837]  \n",
            "10            NaN           NaN  \n",
            "11   [0.98817696]   [0.9885752]  \n",
            "12    [0.9501408]  [1.00298352]  \n",
            "13            NaN           NaN  \n",
            "14            NaN           NaN  \n",
            "15   [0.98341574]  [0.98615344]  \n",
            "16   [0.94079757]  [0.98842065]  \n",
            "17   [0.96615517]  [1.02056869]  \n",
            "18   [1.00748744]  [0.99822255]  \n",
            "19            NaN           NaN  \n",
            "20   [0.96788076]  [1.03411243]  \n",
            "21            NaN           NaN  \n",
            "\n",
            "[22 rows x 21 columns]\n",
            "Unnamed: 0          int64\n",
            "current_time       object\n",
            "model_site          Int64\n",
            "train_month        object\n",
            "h1                  int64\n",
            "h2                  int64\n",
            "d1                float64\n",
            "d2                float64\n",
            "batch               int64\n",
            "look_back           int64\n",
            "optimizer          object\n",
            "learning_rate     float64\n",
            "r2                float64\n",
            "rmse              float64\n",
            "bias              float64\n",
            "std_ratio         float64\n",
            "correlation       float64\n",
            "KGE                object\n",
            "KGE_r_comp         object\n",
            "KGE_alpha_comp     object\n",
            "KGE_beta_comp      object\n",
            "dtype: object\n"
          ]
        }
      ],
      "source": [
        "\n",
        "\n",
        "\n",
        "rf = pd.read_csv( csv_path )\n",
        "print(rf)\n",
        "# Print column data types\n",
        "print(rf.dtypes)\n",
        "\n",
        "lstm = pd.read_csv(\"/content/drive/MyDrive/LSTM_results/best_KGE/best_KGE_result_202506172152.csv\") #update!\n",
        "lstm['model_site'] = lstm['model_site'].astype('Int64')\n",
        "\n",
        "print(lstm)\n",
        "print(lstm.dtypes)"
      ]
    },
    {
      "cell_type": "code",
      "execution_count": 3,
      "id": "10d01512-dc4a-487e-b715-a6516872d7e0",
      "metadata": {
        "colab": {
          "base_uri": "https://localhost:8080/"
        },
        "id": "10d01512-dc4a-487e-b715-a6516872d7e0",
        "outputId": "2f91329a-fc54-43e3-a4ea-2d855f57bad5"
      },
      "outputs": [
        {
          "output_type": "stream",
          "name": "stdout",
          "text": [
            "site_no            int64\n",
            "Random Forest    float64\n",
            "LSTM             float64\n",
            "dtype: object\n",
            "     site_no  Random Forest   LSTM\n",
            "0   13310800       0.926769  0.945\n",
            "1   13192200       0.859797  0.933\n",
            "2   13311450       0.907758  0.937\n",
            "3   13311000       0.939221  0.947\n",
            "4   13154500       0.729285  0.981\n",
            "5   13092747       0.704597  0.932\n",
            "6   13211205       0.889599  0.972\n",
            "7   13311250       0.906752  0.960\n",
            "8   13317660       0.915618  0.956\n",
            "9   13310850       0.904339  0.895\n",
            "10  13296000       0.875657  0.934\n",
            "11  13150430       0.866316  0.905\n",
            "12  13307000       0.909612  0.973\n",
            "13  13341050       0.712652  0.921\n",
            "14  13342500       0.752785  0.933\n",
            "15  13190500       0.688853  0.654\n",
            "16  13340600       0.943870  0.964\n",
            "17  12305000       0.779612  0.924\n",
            "18  13304050       0.498039  0.920\n",
            "19  13340000       0.945548  0.982\n",
            "20  13176400       0.841286  0.926\n",
            "21  12322000       0.673606  0.900\n"
          ]
        }
      ],
      "source": [
        "merged_df = pd.merge( rf,  lstm, left_on='site_no', right_on='model_site', how='inner')\n",
        "#merged_df['KGE_y'] = merged_df['KGE_y']#.astype('float64')\n",
        "\n",
        "#merged_df['KGE_y'] = merged_df['KGE_y'].apply(lambda x: x[0] if isinstance(x, list) and len(x) == 1 else x)\n",
        "\n",
        "\n",
        "merged_df['KGE_y'] = merged_df['KGE_y'].apply(lambda x: x[1:6])\n",
        "merged_df['KGE_y'] = merged_df['KGE_y'].astype('float64')\n",
        "\n",
        "merged_df = merged_df[ ['site_no', 'KGE_x', 'KGE_y'] ]\n",
        "\n",
        "merged_df.columns=[ 'site_no', 'Random Forest', 'LSTM' ]\n",
        "\n",
        "print(merged_df.dtypes)\n",
        "print(merged_df)"
      ]
    },
    {
      "cell_type": "code",
      "execution_count": 4,
      "id": "422d19a5-e0c1-4717-8968-e38227b4233e",
      "metadata": {
        "colab": {
          "base_uri": "https://localhost:8080/"
        },
        "id": "422d19a5-e0c1-4717-8968-e38227b4233e",
        "outputId": "6da66ddf-b4f4-4d4b-ec89-61252af26ac3"
      },
      "outputs": [
        {
          "output_type": "stream",
          "name": "stdout",
          "text": [
            "            col\n",
            "0  [0.97042483]\n",
            "1  [0.82398472]\n",
            "2  [0.12345678]\n",
            "        col\n",
            "0  0.970425\n",
            "1  0.823985\n",
            "2  0.123457\n"
          ]
        }
      ],
      "source": [
        "\n",
        "\n",
        "\n",
        "# Example DataFrame\n",
        "df = pd.DataFrame({\n",
        "    'col': [[0.97042483], [0.82398472], [0.12345678]]\n",
        "})\n",
        "\n",
        "print(df)\n",
        "\n",
        "# Convert list with single float to plain float\n",
        "df['col'] = df['col'].apply(lambda x: x[0] if isinstance(x, list) and len(x) == 1 else x)\n",
        "\n",
        "print(df)\n"
      ]
    },
    {
      "cell_type": "code",
      "execution_count": 5,
      "id": "7e3cf458-9da2-4f7d-8a58-f8af91c0ded1",
      "metadata": {
        "colab": {
          "base_uri": "https://localhost:8080/",
          "height": 463
        },
        "id": "7e3cf458-9da2-4f7d-8a58-f8af91c0ded1",
        "outputId": "944bdc29-b88e-4075-b4a4-b032992ec9dd"
      },
      "outputs": [
        {
          "output_type": "display_data",
          "data": {
            "text/plain": [
              "<Figure size 640x480 with 1 Axes>"
            ],
            "image/png": "[encoded data removed]"
          },
          "metadata": {}
        }
      ],
      "source": [
        "\n",
        "\n",
        "import matplotlib.pyplot as plt\n",
        "\n",
        "plt.rcParams['font.size'] = 15\n",
        "\n",
        "merged_df[[ 'Random Forest', 'LSTM']].boxplot()\n",
        "plt.title(\" \")\n",
        "plt.ylabel(\"KGE\")\n",
        "\n",
        "\n",
        "\n",
        "\n",
        "plt.show()\n"
      ]
    },
    {
      "cell_type": "code",
      "source": [
        "import matplotlib.pyplot as plt\n",
        "import numpy as np\n",
        "\n",
        "fig, ax = plt.subplots(figsize=(6, 4))\n",
        "\n",
        "merged_df[['Random Forest', 'LSTM']].boxplot(ax=ax)\n",
        "\n",
        "for i, col in enumerate(['Random Forest', 'LSTM'], start=1):\n",
        "    y = merged_df[col].values\n",
        "    # Add small random x‑jitter around each box’s x‑position\n",
        "    x = np.random.normal(i, 0.04, size=len(y))\n",
        "    ax.scatter(x, y, s=20, color='grey', alpha=0.6)\n",
        "\n",
        "ax.set_ylabel( \"KGE\")\n",
        "plt.tight_layout()\n",
        "\n",
        "# Save the figure\n",
        "plt.savefig(\"kge.png\")  # Saves as a PNG file\n",
        "\n",
        "plt.show()"
      ],
      "metadata": {
        "colab": {
          "base_uri": "https://localhost:8080/",
          "height": 391
        },
        "id": "-POcNA2w6jZE",
        "outputId": "40a61120-bc8c-4804-a062-c44466e61795"
      },
      "id": "-POcNA2w6jZE",
      "execution_count": 6,
      "outputs": [
        {
          "output_type": "display_data",
          "data": {
            "text/plain": [
              "<Figure size 600x400 with 1 Axes>"
            ],
            "image/png": "[encoded data removed]"
          },
          "metadata": {}
        }
      ]
    },
    {
      "cell_type": "code",
      "source": [
        "print(\"rf:\",rf.head())\n",
        "print(\"lstm:\",lstm.head())\n",
        "\n",
        "merged_df = pd.merge( rf,  lstm, left_on='site_no', right_on='model_site', how='inner')\n",
        "\n",
        "\n",
        "\n",
        "#merged_df['KGE_y'] = merged_df['KGE_y'].apply(lambda x: x[1:6])\n",
        "#merged_df['KGE_y'] = merged_df['KGE_y'].astype('float64')\n",
        "\n",
        "merged_df = merged_df[ ['site_no', 'RMSE', 'rmse'] ]\n",
        "\n",
        "merged_df.columns=[ 'site_no', 'Random Forest', 'LSTM' ]\n",
        "\n",
        "print(merged_df.dtypes)\n",
        "print(\"merged_df\",merged_df)"
      ],
      "metadata": {
        "colab": {
          "base_uri": "https://localhost:8080/"
        },
        "id": "nLojrS0kszCQ",
        "outputId": "233e7bad-b330-45f2-d350-8d73f18da0f2"
      },
      "id": "nLojrS0kszCQ",
      "execution_count": 7,
      "outputs": [
        {
          "output_type": "stream",
          "name": "stdout",
          "text": [
            "rf:    Unnamed: 0   site_no  number_of_obs       MSE      BIAS      RMSE  \\\n",
            "0           0  13310800           1103  0.315464 -0.217739  0.561662   \n",
            "1           1  13192200            820  0.326945  0.144117  0.571791   \n",
            "2           2  13311450           1098  0.357845 -0.174490  0.598202   \n",
            "3           3  13311000           1101  0.386968 -0.117419  0.622068   \n",
            "4           4  13154500           2088  0.410202 -0.041550  0.640470   \n",
            "\n",
            "        NSE       KGE  std_dev_st      cv_q  inter_cv_q  inter_cv_st  range  \\\n",
            "0  0.874394  0.926769    1.726251  1.057303    0.415897     0.049465    8.5   \n",
            "1  0.832725  0.859797    1.666903  0.489336    0.232474     0.042419   10.0   \n",
            "2  0.908933  0.907758    2.037784  0.935469    0.292900     0.054506    9.9   \n",
            "3  0.883396  0.939221    2.062030  1.093710    0.342235     0.049630   10.1   \n",
            "4  0.693833  0.729285    1.277700  0.357561    0.236465     0.015865    8.7   \n",
            "\n",
            "   autocorr_t_1  grid_std_ratio  grid_correlation  \n",
            "0      0.923407        0.958528          0.945224  \n",
            "1      0.930701        1.124802          0.937290  \n",
            "2      0.940953        0.919909          0.958200  \n",
            "3      0.926850        1.023751          0.945355  \n",
            "4      0.958356        0.785208          0.835240  \n",
            "lstm:    Unnamed: 0                current_time  model_site         train_month  \\\n",
            "0          92  2025-06-17 19:45:33.846027    12305000  [3, 4, 5, 6, 7, 8]   \n",
            "1          24  2025-06-10 15:58:16.856939    12322000  [3, 4, 5, 6, 7, 8]   \n",
            "2          56  2025-06-13 01:58:46.930758    13092747  [3, 4, 5, 6, 7, 8]   \n",
            "3          60  2025-06-13 03:13:34.716890    13150430  [3, 4, 5, 6, 7, 8]   \n",
            "4          21  2025-06-10 15:39:24.167449    13154500  [3, 4, 5, 6, 7, 8]   \n",
            "\n",
            "    h1   h2   d1     d2  batch  look_back  ... learning_rate        r2  \\\n",
            "0  256  100  0.1  0.050      8         12  ...        0.0001  0.907070   \n",
            "1  200  100  0.1  0.100     16         45  ...        0.0001  0.871017   \n",
            "2  100  100  0.2  0.100     32         45  ...        0.0001  0.956635   \n",
            "3  200  100  0.2  0.100     16         90  ...        0.0001  0.936969   \n",
            "4  200  100  0.1  0.025     16         45  ...        0.0001  0.964977   \n",
            "\n",
            "       rmse      bias  std_ratio  correlation           KGE    KGE_r_comp  \\\n",
            "0  1.393678  0.185782   1.060470     0.958811  [0.92459393]  [0.95881082]   \n",
            "1  1.430887  0.822907   0.956234     0.948290  [0.90062981]           NaN   \n",
            "2  0.513246  0.221947   0.937728     0.980454  [0.93291839]  [0.98045436]   \n",
            "3  0.882703 -0.429646   1.087269     0.978335  [0.90516023]  [0.97833539]   \n",
            "4  0.546917 -0.024704   1.007364     0.982671  [0.98111223]           NaN   \n",
            "\n",
            "  KGE_alpha_comp KGE_beta_comp  \n",
            "0   [1.06047012]  [1.01824534]  \n",
            "1            NaN           NaN  \n",
            "2   [0.93772789]  [1.01549501]  \n",
            "3   [1.08726875]  [0.96984387]  \n",
            "4            NaN           NaN  \n",
            "\n",
            "[5 rows x 21 columns]\n",
            "site_no            int64\n",
            "Random Forest    float64\n",
            "LSTM             float64\n",
            "dtype: object\n",
            "merged_df      site_no  Random Forest      LSTM\n",
            "0   13310800       0.561662  0.553821\n",
            "1   13192200       0.571791  0.792946\n",
            "2   13311450       0.598202  0.566136\n",
            "3   13311000       0.622068  0.544358\n",
            "4   13154500       0.640470  0.546917\n",
            "5   13092747       0.696118  0.513246\n",
            "6   13211205       0.727619  1.042547\n",
            "7   13311250       0.733434  0.874331\n",
            "8   13317660       0.772190  1.091817\n",
            "9   13310850       0.844064  0.887377\n",
            "10  13296000       0.872014  1.240340\n",
            "11  13150430       0.897075  0.882703\n",
            "12  13307000       0.957624  1.132614\n",
            "13  13341050       1.028680  1.211277\n",
            "14  13342500       1.031004  0.968252\n",
            "15  13190500       1.050931  0.834495\n",
            "16  13340600       1.130546  1.095614\n",
            "17  12305000       1.162926  1.393678\n",
            "18  13304050       1.199496  1.041534\n",
            "19  13340000       1.207684  1.377271\n",
            "20  13176400       1.210278  1.023327\n",
            "21  12322000       1.408650  1.430887\n"
          ]
        }
      ]
    },
    {
      "cell_type": "code",
      "source": [
        "plt.rcParams['font.size'] = 15\n",
        "\n",
        "merged_df[[ 'Random Forest', 'LSTM']].boxplot()\n",
        "plt.title(\" \")\n",
        "plt.ylabel(\"RMSE (°C)\")\n",
        "\n",
        "\n",
        "\n",
        "\n",
        "plt.show()\n"
      ],
      "metadata": {
        "colab": {
          "base_uri": "https://localhost:8080/",
          "height": 463
        },
        "id": "bpdVWYHzt2jD",
        "outputId": "dda21bdb-5b9b-42fa-aca3-59231b2377bf"
      },
      "id": "bpdVWYHzt2jD",
      "execution_count": 8,
      "outputs": [
        {
          "output_type": "display_data",
          "data": {
            "text/plain": [
              "<Figure size 640x480 with 1 Axes>"
            ],
            "image/png": "[encoded data removed]"
          },
          "metadata": {}
        }
      ]
    },
    {
      "cell_type": "code",
      "source": [
        "import matplotlib.pyplot as plt\n",
        "import numpy as np\n",
        "\n",
        "fig, ax = plt.subplots(figsize=(6, 4))\n",
        "\n",
        "merged_df[['Random Forest', 'LSTM']].boxplot(ax=ax)\n",
        "\n",
        "for i, col in enumerate(['Random Forest', 'LSTM'], start=1):\n",
        "    y = merged_df[col].values\n",
        "    # Add small random x‑jitter around each box’s x‑position\n",
        "    x = np.random.normal(i, 0.04, size=len(y))\n",
        "    ax.scatter(x, y, s=20, color='grey', alpha=0.6)\n",
        "\n",
        "ax.set_ylabel( \"RMSE (°C)\")\n",
        "plt.tight_layout()\n",
        "\n",
        "# Save the figure\n",
        "plt.savefig(\"rmse.png\")  # Saves as a PNG file\n",
        "\n",
        "plt.show()\n",
        "\n"
      ],
      "metadata": {
        "colab": {
          "base_uri": "https://localhost:8080/",
          "height": 392
        },
        "id": "hp5wFTmg6KiP",
        "outputId": "332c590a-1b9e-4b5a-8853-64ac1c06fe25"
      },
      "id": "hp5wFTmg6KiP",
      "execution_count": 9,
      "outputs": [
        {
          "output_type": "display_data",
          "data": {
            "text/plain": [
              "<Figure size 600x400 with 1 Axes>"
            ],
            "image/png": "[encoded data removed]"
          },
          "metadata": {}
        }
      ]
    },
    {
      "cell_type": "code",
      "source": [
        "# Assuming your DataFrame is named 'df'\n",
        "\n",
        "merged_df['Difference'] =  merged_df['Random Forest'] -  merged_df['LSTM']\n",
        "print(merged_df)\n",
        "\n",
        "#row_with_max_difference =  merged_df.loc[ merged_df['Difference'].idxmax()]\n",
        "\n",
        "# To get just the row without the Difference column:\n",
        "#result = merged_df.loc[ merged_df['Random Forest'] -  merged_df['LSTM'].idxmax()]\n",
        "#print(result)"
      ],
      "metadata": {
        "colab": {
          "base_uri": "https://localhost:8080/"
        },
        "id": "rRjFTE1Cuz3U",
        "outputId": "3216629a-c8ed-4536-a310-582215c395ae"
      },
      "id": "rRjFTE1Cuz3U",
      "execution_count": 10,
      "outputs": [
        {
          "output_type": "stream",
          "name": "stdout",
          "text": [
            "     site_no  Random Forest      LSTM  Difference\n",
            "0   13310800       0.561662  0.553821    0.007840\n",
            "1   13192200       0.571791  0.792946   -0.221155\n",
            "2   13311450       0.598202  0.566136    0.032065\n",
            "3   13311000       0.622068  0.544358    0.077710\n",
            "4   13154500       0.640470  0.546917    0.093553\n",
            "5   13092747       0.696118  0.513246    0.182872\n",
            "6   13211205       0.727619  1.042547   -0.314928\n",
            "7   13311250       0.733434  0.874331   -0.140897\n",
            "8   13317660       0.772190  1.091817   -0.319627\n",
            "9   13310850       0.844064  0.887377   -0.043313\n",
            "10  13296000       0.872014  1.240340   -0.368326\n",
            "11  13150430       0.897075  0.882703    0.014372\n",
            "12  13307000       0.957624  1.132614   -0.174990\n",
            "13  13341050       1.028680  1.211277   -0.182597\n",
            "14  13342500       1.031004  0.968252    0.062752\n",
            "15  13190500       1.050931  0.834495    0.216436\n",
            "16  13340600       1.130546  1.095614    0.034933\n",
            "17  12305000       1.162926  1.393678   -0.230752\n",
            "18  13304050       1.199496  1.041534    0.157962\n",
            "19  13340000       1.207684  1.377271   -0.169588\n",
            "20  13176400       1.210278  1.023327    0.186951\n",
            "21  12322000       1.408650  1.430887   -0.022237\n"
          ]
        }
      ]
    },
    {
      "cell_type": "code",
      "execution_count": 11,
      "id": "7c93d916-c73e-4da9-9b12-8389e04cbccf",
      "metadata": {
        "colab": {
          "base_uri": "https://localhost:8080/",
          "height": 350
        },
        "id": "7c93d916-c73e-4da9-9b12-8389e04cbccf",
        "outputId": "b128fde5-a5f6-450d-8784-eaad4fea1ea7"
      },
      "outputs": [
        {
          "output_type": "error",
          "ename": "KeyError",
          "evalue": "\"None of [Index(['KGE_x', 'KGE_y'], dtype='object')] are in the [columns]\"",
          "traceback": [
            "\u001b[0;31m---------------------------------------------------------------------------\u001b[0m",
            "\u001b[0;31mKeyError\u001b[0m                                  Traceback (most recent call last)",
            "\u001b[0;32m<ipython-input-11-1026244986>\u001b[0m in \u001b[0;36m<cell line: 0>\u001b[0;34m()\u001b[0m\n\u001b[1;32m      5\u001b[0m \u001b[0;34m\u001b[0m\u001b[0m\n\u001b[1;32m      6\u001b[0m \u001b[0;31m# Melt the DataFrame to long format\u001b[0m\u001b[0;34m\u001b[0m\u001b[0;34m\u001b[0m\u001b[0m\n\u001b[0;32m----> 7\u001b[0;31m \u001b[0mdf_melted\u001b[0m \u001b[0;34m=\u001b[0m  \u001b[0mmerged_df\u001b[0m\u001b[0;34m[\u001b[0m\u001b[0;34m[\u001b[0m\u001b[0;34m'KGE_x'\u001b[0m\u001b[0;34m,\u001b[0m \u001b[0;34m'KGE_y'\u001b[0m\u001b[0;34m]\u001b[0m\u001b[0;34m]\u001b[0m\u001b[0;34m.\u001b[0m\u001b[0mmelt\u001b[0m\u001b[0;34m(\u001b[0m\u001b[0mvar_name\u001b[0m\u001b[0;34m=\u001b[0m\u001b[0;34m'Variable'\u001b[0m\u001b[0;34m,\u001b[0m \u001b[0mvalue_name\u001b[0m\u001b[0;34m=\u001b[0m\u001b[0;34m'Value'\u001b[0m\u001b[0;34m)\u001b[0m\u001b[0;34m\u001b[0m\u001b[0;34m\u001b[0m\u001b[0m\n\u001b[0m\u001b[1;32m      8\u001b[0m \u001b[0;34m\u001b[0m\u001b[0m\n\u001b[1;32m      9\u001b[0m \u001b[0;31m# Create boxplot\u001b[0m\u001b[0;34m\u001b[0m\u001b[0;34m\u001b[0m\u001b[0m\n",
            "\u001b[0;32m/usr/local/lib/python3.11/dist-packages/pandas/core/frame.py\u001b[0m in \u001b[0;36m__getitem__\u001b[0;34m(self, key)\u001b[0m\n\u001b[1;32m   4106\u001b[0m             \u001b[0;32mif\u001b[0m \u001b[0mis_iterator\u001b[0m\u001b[0;34m(\u001b[0m\u001b[0mkey\u001b[0m\u001b[0;34m)\u001b[0m\u001b[0;34m:\u001b[0m\u001b[0;34m\u001b[0m\u001b[0;34m\u001b[0m\u001b[0m\n\u001b[1;32m   4107\u001b[0m                 \u001b[0mkey\u001b[0m \u001b[0;34m=\u001b[0m \u001b[0mlist\u001b[0m\u001b[0;34m(\u001b[0m\u001b[0mkey\u001b[0m\u001b[0;34m)\u001b[0m\u001b[0;34m\u001b[0m\u001b[0;34m\u001b[0m\u001b[0m\n\u001b[0;32m-> 4108\u001b[0;31m             \u001b[0mindexer\u001b[0m \u001b[0;34m=\u001b[0m \u001b[0mself\u001b[0m\u001b[0;34m.\u001b[0m\u001b[0mcolumns\u001b[0m\u001b[0;34m.\u001b[0m\u001b[0m_get_indexer_strict\u001b[0m\u001b[0;34m(\u001b[0m\u001b[0mkey\u001b[0m\u001b[0;34m,\u001b[0m \u001b[0;34m\"columns\"\u001b[0m\u001b[0;34m)\u001b[0m\u001b[0;34m[\u001b[0m\u001b[0;36m1\u001b[0m\u001b[0;34m]\u001b[0m\u001b[0;34m\u001b[0m\u001b[0;34m\u001b[0m\u001b[0m\n\u001b[0m\u001b[1;32m   4109\u001b[0m \u001b[0;34m\u001b[0m\u001b[0m\n\u001b[1;32m   4110\u001b[0m         \u001b[0;31m# take() does not accept boolean indexers\u001b[0m\u001b[0;34m\u001b[0m\u001b[0;34m\u001b[0m\u001b[0m\n",
            "\u001b[0;32m/usr/local/lib/python3.11/dist-packages/pandas/core/indexes/base.py\u001b[0m in \u001b[0;36m_get_indexer_strict\u001b[0;34m(self, key, axis_name)\u001b[0m\n\u001b[1;32m   6198\u001b[0m             \u001b[0mkeyarr\u001b[0m\u001b[0;34m,\u001b[0m \u001b[0mindexer\u001b[0m\u001b[0;34m,\u001b[0m \u001b[0mnew_indexer\u001b[0m \u001b[0;34m=\u001b[0m \u001b[0mself\u001b[0m\u001b[0;34m.\u001b[0m\u001b[0m_reindex_non_unique\u001b[0m\u001b[0;34m(\u001b[0m\u001b[0mkeyarr\u001b[0m\u001b[0;34m)\u001b[0m\u001b[0;34m\u001b[0m\u001b[0;34m\u001b[0m\u001b[0m\n\u001b[1;32m   6199\u001b[0m \u001b[0;34m\u001b[0m\u001b[0m\n\u001b[0;32m-> 6200\u001b[0;31m         \u001b[0mself\u001b[0m\u001b[0;34m.\u001b[0m\u001b[0m_raise_if_missing\u001b[0m\u001b[0;34m(\u001b[0m\u001b[0mkeyarr\u001b[0m\u001b[0;34m,\u001b[0m \u001b[0mindexer\u001b[0m\u001b[0;34m,\u001b[0m \u001b[0maxis_name\u001b[0m\u001b[0;34m)\u001b[0m\u001b[0;34m\u001b[0m\u001b[0;34m\u001b[0m\u001b[0m\n\u001b[0m\u001b[1;32m   6201\u001b[0m \u001b[0;34m\u001b[0m\u001b[0m\n\u001b[1;32m   6202\u001b[0m         \u001b[0mkeyarr\u001b[0m \u001b[0;34m=\u001b[0m \u001b[0mself\u001b[0m\u001b[0;34m.\u001b[0m\u001b[0mtake\u001b[0m\u001b[0;34m(\u001b[0m\u001b[0mindexer\u001b[0m\u001b[0;34m)\u001b[0m\u001b[0;34m\u001b[0m\u001b[0;34m\u001b[0m\u001b[0m\n",
            "\u001b[0;32m/usr/local/lib/python3.11/dist-packages/pandas/core/indexes/base.py\u001b[0m in \u001b[0;36m_raise_if_missing\u001b[0;34m(self, key, indexer, axis_name)\u001b[0m\n\u001b[1;32m   6247\u001b[0m         \u001b[0;32mif\u001b[0m \u001b[0mnmissing\u001b[0m\u001b[0;34m:\u001b[0m\u001b[0;34m\u001b[0m\u001b[0;34m\u001b[0m\u001b[0m\n\u001b[1;32m   6248\u001b[0m             \u001b[0;32mif\u001b[0m \u001b[0mnmissing\u001b[0m \u001b[0;34m==\u001b[0m \u001b[0mlen\u001b[0m\u001b[0;34m(\u001b[0m\u001b[0mindexer\u001b[0m\u001b[0;34m)\u001b[0m\u001b[0;34m:\u001b[0m\u001b[0;34m\u001b[0m\u001b[0;34m\u001b[0m\u001b[0m\n\u001b[0;32m-> 6249\u001b[0;31m                 \u001b[0;32mraise\u001b[0m \u001b[0mKeyError\u001b[0m\u001b[0;34m(\u001b[0m\u001b[0;34mf\"None of [{key}] are in the [{axis_name}]\"\u001b[0m\u001b[0;34m)\u001b[0m\u001b[0;34m\u001b[0m\u001b[0;34m\u001b[0m\u001b[0m\n\u001b[0m\u001b[1;32m   6250\u001b[0m \u001b[0;34m\u001b[0m\u001b[0m\n\u001b[1;32m   6251\u001b[0m             \u001b[0mnot_found\u001b[0m \u001b[0;34m=\u001b[0m \u001b[0mlist\u001b[0m\u001b[0;34m(\u001b[0m\u001b[0mensure_index\u001b[0m\u001b[0;34m(\u001b[0m\u001b[0mkey\u001b[0m\u001b[0;34m)\u001b[0m\u001b[0;34m[\u001b[0m\u001b[0mmissing_mask\u001b[0m\u001b[0;34m.\u001b[0m\u001b[0mnonzero\u001b[0m\u001b[0;34m(\u001b[0m\u001b[0;34m)\u001b[0m\u001b[0;34m[\u001b[0m\u001b[0;36m0\u001b[0m\u001b[0;34m]\u001b[0m\u001b[0;34m]\u001b[0m\u001b[0;34m.\u001b[0m\u001b[0munique\u001b[0m\u001b[0;34m(\u001b[0m\u001b[0;34m)\u001b[0m\u001b[0;34m)\u001b[0m\u001b[0;34m\u001b[0m\u001b[0;34m\u001b[0m\u001b[0m\n",
            "\u001b[0;31mKeyError\u001b[0m: \"None of [Index(['KGE_x', 'KGE_y'], dtype='object')] are in the [columns]\""
          ]
        }
      ],
      "source": [
        "import seaborn as sns\n",
        "\n",
        "\n",
        "import matplotlib.pyplot as plt\n",
        "\n",
        "# Melt the DataFrame to long format\n",
        "df_melted =  merged_df[['KGE_x', 'KGE_y']].melt(var_name='Variable', value_name='Value')\n",
        "\n",
        "# Create boxplot\n",
        "sns.boxplot(x='Variable', y='Value', data=df_melted)\n",
        "plt.title(\"Boxplot of col1 and col2\")\n",
        "plt.show()\n"
      ]
    },
    {
      "cell_type": "code",
      "execution_count": null,
      "id": "e57d42d2-d25f-47e2-8984-337411232335",
      "metadata": {
        "id": "e57d42d2-d25f-47e2-8984-337411232335"
      },
      "outputs": [],
      "source": [
        "import seaborn as sns\n",
        "import matplotlib.pyplot as plt\n",
        "\n",
        "# Sample data\n",
        "import numpy as np\n",
        "import pandas as pd\n",
        "np.random.seed(42)\n",
        "data = pd.DataFrame({\n",
        "    'group': np.repeat(['A', 'B'], 50),\n",
        "    'value': np.concatenate([\n",
        "        np.random.normal(loc=5, scale=1, size=50),\n",
        "        np.random.normal(loc=6, scale=1.2, size=50)\n",
        "    ])\n",
        "})\n",
        "\n",
        "# Create boxplot\n",
        "sns.boxplot(x='group', y='value', data=data, whis=1.5, width=0.4, fliersize=0)\n",
        "\n",
        "# Overlay each data point\n",
        "sns.stripplot(x='group', y='value', data=data, color='black', size=4, jitter=True)\n",
        "\n",
        "plt.title(\"Boxplot with Individual Points\")\n",
        "plt.show()\n"
      ]
    },
    {
      "cell_type": "code",
      "execution_count": null,
      "id": "2edde576-6f5b-42a0-aa93-76c45a2ae139",
      "metadata": {
        "id": "2edde576-6f5b-42a0-aa93-76c45a2ae139"
      },
      "outputs": [],
      "source": []
    },
    {
      "cell_type": "code",
      "execution_count": null,
      "id": "37a5dcf6-a1e2-4b93-9d31-873ae7fd481f",
      "metadata": {
        "id": "37a5dcf6-a1e2-4b93-9d31-873ae7fd481f"
      },
      "outputs": [],
      "source": []
    }
  ],
  "metadata": {
    "kernelspec": {
      "display_name": "Python 3 (ipykernel)",
      "language": "python",
      "name": "python3"
    },
    "language_info": {
      "codemirror_mode": {
        "name": "ipython",
        "version": 3
      },
      "file_extension": ".py",
      "mimetype": "text/x-python",
      "name": "python",
      "nbconvert_exporter": "python",
      "pygments_lexer": "ipython3",
      "version": "3.12.4"
    },
    "colab": {
      "provenance": []
    }
  },
  "nbformat": 4,
  "nbformat_minor": 5
}