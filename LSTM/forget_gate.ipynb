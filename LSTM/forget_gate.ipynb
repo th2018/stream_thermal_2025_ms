{
 "cells": [
  {
   "cell_type": "markdown",
   "id": "e95bf311-8490-47f3-ba7e-8694e599a613",
   "metadata": {},
   "source": [
    "The sigmoid ensures the forget gate outputs values between 0 and 1, acting as a \"soft switch\" to decide how much information to discard."
   ]
  },
  {
   "cell_type": "code",
   "execution_count": 2,
   "id": "064c973a-7e85-4fb1-b401-8b8f521284d6",
   "metadata": {},
   "outputs": [
    {
     "name": "stdout",
     "output_type": "stream",
     "text": [
      "Forget gate values (between 0 and 1): [0.9783855  0.23389713]\n"
     ]
    }
   ],
   "source": [
    "import numpy as np\n",
    "\n",
    "def sigmoid(x):\n",
    "    return 1 / (1 + np.exp(-x))\n",
    "\n",
    "# Example dimensions\n",
    "input_dim = 3  # Dimension of input x_t\n",
    "hidden_dim = 2  # Dimension of hidden state h_{t-1}\n",
    "\n",
    "# Initialize weights and bias for the forget gate\n",
    "W_f = np.random.randn(hidden_dim + input_dim, hidden_dim)  # Weights\n",
    "b_f = np.zeros(hidden_dim)  # Bias\n",
    "\n",
    "# Example input and previous hidden state\n",
    "x_t = np.random.randn(input_dim)          # Current input\n",
    "h_t_1 = np.random.randn(hidden_dim)       # Previous hidden state\n",
    "\n",
    "# Concatenate h_{t-1} and x_t\n",
    "concat = np.concatenate([h_t_1, x_t])\n",
    "\n",
    "# Compute forget gate\n",
    "f_t = sigmoid(np.dot(concat, W_f) + b_f)\n",
    "\n",
    "print(\"Forget gate values (between 0 and 1):\", f_t)"
   ]
  },
  {
   "cell_type": "code",
   "execution_count": null,
   "id": "eae52cb8-bd87-4030-9882-476a4d7f5b5e",
   "metadata": {},
   "outputs": [],
   "source": []
  }
 ],
 "metadata": {
  "kernelspec": {
   "display_name": "Python 3 (ipykernel)",
   "language": "python",
   "name": "python3"
  },
  "language_info": {
   "codemirror_mode": {
    "name": "ipython",
    "version": 3
   },
   "file_extension": ".py",
   "mimetype": "text/x-python",
   "name": "python",
   "nbconvert_exporter": "python",
   "pygments_lexer": "ipython3",
   "version": "3.12.4"
  }
 },
 "nbformat": 4,
 "nbformat_minor": 5
}
