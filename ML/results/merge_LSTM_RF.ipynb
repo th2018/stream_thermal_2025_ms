{
 "cells": [
  {
   "cell_type": "markdown",
   "id": "1b2e7033-1280-472c-a5b7-434820d2cdb4",
   "metadata": {},
   "source": [
    "1. read random forest output as pd df\n",
    "2. print number of rows\n",
    "3. read LSTM output as pd df\n",
    "4. print number of rows\n",
    "5. merge the two pd df by row index\n",
    "6. print the merged pd df"
   ]
  },
  {
   "cell_type": "code",
   "execution_count": 1,
   "id": "379a1679-c40c-4e84-9c18-1d61dbb80b88",
   "metadata": {},
   "outputs": [],
   "source": [
    "import pandas as pd"
   ]
  },
  {
   "cell_type": "code",
   "execution_count": 2,
   "id": "f388d54d-ae0b-42d2-9b42-39ff6f4bec4e",
   "metadata": {},
   "outputs": [
    {
     "name": "stdout",
     "output_type": "stream",
     "text": [
      "     Unnamed: 0        Date      site  y_test  y_pred_best_rf\n",
      "0           833  2022-07-15  13310850    10.2         10.0040\n",
      "1           834  2022-07-16  13310850     9.9          9.9995\n",
      "2           835  2022-07-17  13310850    10.1         10.0735\n",
      "3           836  2022-07-18  13310850    10.0          8.6955\n",
      "4           837  2022-07-19  13310850     9.0          8.8310\n",
      "..          ...         ...       ...     ...             ...\n",
      "204        1037  2024-08-27  13310850     7.9          7.9855\n",
      "205        1038  2024-08-28  13310850     7.2          7.7855\n",
      "206        1039  2024-08-29  13310850     6.7          7.8425\n",
      "207        1040  2024-08-30  13310850     7.4          8.0750\n",
      "208        1041  2024-08-31  13310850     8.0          8.8680\n",
      "\n",
      "[209 rows x 5 columns]\n",
      "Number of rows in Random Forest output: 209\n"
     ]
    }
   ],
   "source": [
    "# 1. Read Random Forest output as pandas DataFrame\n",
    "rf_df = pd.read_csv(\"13310850_site_pred_test.csv\")  # Adjust filename/path as needed\n",
    "\n",
    "#print(rf_df.columns)\n",
    "\n",
    "rf_df.columns=['Unnamed: 0', 'Date', 'site', 'y_test', 'y_pred_best_rf']\n",
    "\n",
    "print(rf_df)\n",
    "\n",
    "# 2. Print number of rows in Random Forest DataFrame\n",
    "print(\"Number of rows in Random Forest output:\", len(rf_df))"
   ]
  },
  {
   "cell_type": "code",
   "execution_count": 3,
   "id": "0dfe1333-5201-4d7d-9278-18377656eced",
   "metadata": {},
   "outputs": [
    {
     "name": "stdout",
     "output_type": "stream",
     "text": [
      "     Unnamed: 0     tmean   site_no        Date  00010_Mean  00060_Mean  \\\n",
      "0          3943  0.585672  13310850  2022-07-03    0.626374    0.199159   \n",
      "1          3944  0.473434  13310850  2022-07-04    0.549451    0.179006   \n",
      "2          3945  0.563140  13310850  2022-07-05    0.560440    0.158854   \n",
      "3          3946  0.652480  13310850  2022-07-06    0.637363    0.149216   \n",
      "4          3947  0.660307  13310850  2022-07-07    0.692308    0.140454   \n",
      "..          ...       ...       ...         ...         ...         ...   \n",
      "201        4714  0.695023  13310850  2024-08-12    0.758242    0.007272   \n",
      "202        4715  0.578298  13310850  2024-08-13    0.725275    0.006571   \n",
      "203        4716  0.564860  13310850  2024-08-14    0.670330    0.005783   \n",
      "204        4717  0.497627  13310850  2024-08-15    0.582418    0.011128   \n",
      "205        4718  0.506713  13310850  2024-08-16    0.604396    0.009463   \n",
      "\n",
      "     Y_pred_LSTM  Y_test_original  \n",
      "0      10.158686             10.0  \n",
      "1       8.718686              9.0  \n",
      "2       9.028327              9.6  \n",
      "3       9.798731              9.5  \n",
      "4       9.827391              9.6  \n",
      "..           ...              ...  \n",
      "201     7.785148              7.9  \n",
      "202     8.216564              7.2  \n",
      "203     7.267717              6.7  \n",
      "204     7.629811              7.4  \n",
      "205     8.404864              8.0  \n",
      "\n",
      "[206 rows x 8 columns]\n",
      "Number of rows in LSTM output: 206\n"
     ]
    }
   ],
   "source": [
    "# 3. Read LSTM output as pandas DataFrame\n",
    "lstm_df = pd.read_csv(\"13310850summer_df.csv\")  # Adjust filename/path as needed\n",
    "\n",
    "\n",
    "lstm_df.columns= ['Unnamed: 0', 'tmean', 'site_no', 'Date', '00010_Mean', '00060_Mean',\n",
    "       'Y_pred_LSTM', 'Y_test_original']\n",
    "\n",
    "print(  lstm_df )\n",
    "\n",
    "# 4. Print number of rows in LSTM DataFrame\n",
    "print(\"Number of rows in LSTM output:\", len(lstm_df))"
   ]
  },
  {
   "cell_type": "code",
   "execution_count": 4,
   "id": "5ddc038d-8947-43f4-9280-e3517ab84177",
   "metadata": {},
   "outputs": [
    {
     "name": "stdout",
     "output_type": "stream",
     "text": [
      "Merged DataFrame:\n",
      "     Unnamed: 0_x        Date      site  y_test  y_pred_best_rf  Unnamed: 0_y  \\\n",
      "0             833  2022-07-15  13310850    10.2         10.0040          3955   \n",
      "1             834  2022-07-16  13310850     9.9          9.9995          3956   \n",
      "2             835  2022-07-17  13310850    10.1         10.0735          3957   \n",
      "3             836  2022-07-18  13310850    10.0          8.6955          3958   \n",
      "4             837  2022-07-19  13310850     9.0          8.8310          3959   \n",
      "..            ...         ...       ...     ...             ...           ...   \n",
      "189          1022  2024-08-12  13310850     9.7          9.4485          4714   \n",
      "190          1023  2024-08-13  13310850     9.4          8.8690          4715   \n",
      "191          1024  2024-08-14  13310850     8.9          8.7625          4716   \n",
      "192          1025  2024-08-15  13310850     8.1          8.3845          4717   \n",
      "193          1026  2024-08-16  13310850     8.3          8.4085          4718   \n",
      "\n",
      "        tmean   site_no  00010_Mean  00060_Mean  Y_pred_LSTM  Y_test_original  \n",
      "0    0.761210  13310850    0.813187    0.085254    10.490334             10.5  \n",
      "1    0.760607  13310850    0.780220    0.079996    10.401543             10.4  \n",
      "2    0.775437  13310850    0.802198    0.074739    10.765832             10.5  \n",
      "3    0.547991  13310850    0.791209    0.070183    10.711665             10.8  \n",
      "4    0.592943  13310850    0.681319    0.066678     9.695501             10.3  \n",
      "..        ...       ...         ...         ...          ...              ...  \n",
      "189  0.695023  13310850    0.758242    0.007272     7.785148              7.9  \n",
      "190  0.578298  13310850    0.725275    0.006571     8.216564              7.2  \n",
      "191  0.564860  13310850    0.670330    0.005783     7.267717              6.7  \n",
      "192  0.497627  13310850    0.582418    0.011128     7.629811              7.4  \n",
      "193  0.506713  13310850    0.604396    0.009463     8.404864              8.0  \n",
      "\n",
      "[194 rows x 12 columns]\n"
     ]
    }
   ],
   "source": [
    "\n",
    "\n",
    "\n",
    "\n",
    "# 5. Merge the two DataFrames by row index\n",
    "#merged_df = pd.concat([rf_df, lstm_df], axis=1)\n",
    "\n",
    "merged_df =pd.merge(rf_df, lstm_df, on='Date')\n",
    "\n",
    "# 6. Print the merged DataFrame\n",
    "print(\"Merged DataFrame:\")\n",
    "print(merged_df)\n"
   ]
  },
  {
   "cell_type": "code",
   "execution_count": null,
   "id": "6583c6cb-a5ae-4b3f-8d4b-460025827dd7",
   "metadata": {},
   "outputs": [],
   "source": []
  }
 ],
 "metadata": {
  "kernelspec": {
   "display_name": "Python 3 (ipykernel)",
   "language": "python",
   "name": "python3"
  },
  "language_info": {
   "codemirror_mode": {
    "name": "ipython",
    "version": 3
   },
   "file_extension": ".py",
   "mimetype": "text/x-python",
   "name": "python",
   "nbconvert_exporter": "python",
   "pygments_lexer": "ipython3",
   "version": "3.12.4"
  }
 },
 "nbformat": 4,
 "nbformat_minor": 5
}
